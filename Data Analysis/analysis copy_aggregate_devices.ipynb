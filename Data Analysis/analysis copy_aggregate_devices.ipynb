{
 "cells": [
  {
   "cell_type": "markdown",
   "metadata": {},
   "source": [
    "# Setup Ambiente"
   ]
  },
  {
   "cell_type": "code",
   "execution_count": 1,
   "metadata": {},
   "outputs": [],
   "source": [
    "#!pip install firebase_admin pandas matplotlib seaborn --quiet"
   ]
  },
  {
   "cell_type": "markdown",
   "metadata": {},
   "source": [
    "# Connessione a Firestore\n"
   ]
  },
  {
   "cell_type": "code",
   "execution_count": 2,
   "metadata": {},
   "outputs": [],
   "source": [
    "import firebase_admin\n",
    "from firebase_admin import credentials, firestore\n",
    "import pandas as pd\n",
    "import matplotlib.pyplot as plt\n",
    "import seaborn as sns\n",
    "from prophet import Prophet\n",
    "import plotly.graph_objects as go\n",
    "from prophet.plot import plot_plotly\n",
    "import warnings\n",
    "\n",
    "# Ignora i warning di pandas per una visualizzazione più pulita\n",
    "warnings.filterwarnings('ignore')"
   ]
  },
  {
   "cell_type": "code",
   "execution_count": 3,
   "metadata": {},
   "outputs": [],
   "source": [
    "# Inizializzazione Firebase Admin SDK\n",
    "# Sostituisci il \"path\" con il percorso al tuo file di credenziali Firebase\n",
    "cred = credentials.Certificate(\"path/to/your/.json\")\n",
    "firebase_admin.initialize_app(cred)\n",
    "db = firestore.client()"
   ]
  },
  {
   "cell_type": "markdown",
   "metadata": {},
   "source": [
    "# Estrazione Dati"
   ]
  },
  {
   "cell_type": "markdown",
   "metadata": {},
   "source": [
    "## Prenotazioni"
   ]
  },
  {
   "cell_type": "code",
   "execution_count": null,
   "metadata": {},
   "outputs": [],
   "source": [
    "devices_ref = db.collection('devices')\n",
    "devices_docs = devices_ref.stream()\n",
    "\n",
    "all_bookings = []\n",
    "for device in devices_docs:\n",
    "    curr_device_id = device.id\n",
    "    prenotazioni_ref = db.collection('devices').document(curr_device_id).collection('prenotazioni')\n",
    "    docs = prenotazioni_ref.stream()\n",
    "\n",
    "    for doc in docs:\n",
    "        d = doc.to_dict()\n",
    "        d['booking_id'] = doc.id\n",
    "        d['device_id'] = curr_device_id\n",
    "        # Conversione date\n",
    "        if 'start_time' in d:\n",
    "            d['start_time'] = pd.to_datetime(d['start_time'], utc=True, errors='coerce')\n",
    "        if 'end_time' in d:\n",
    "            d['end_time'] = pd.to_datetime(d['end_time'], utc=True, errors='coerce')\n",
    "        all_bookings.append(d)\n",
    "\n",
    "all_bookings_df = pd.DataFrame(all_bookings)\n",
    "if 'start_time' in all_bookings_df and all_bookings_df['start_time'].dtype == 'datetime64[ns, UTC]':\n",
    "    all_bookings_df['start_time'] = all_bookings_df['start_time'].dt.tz_convert(None)\n",
    "if 'end_time' in all_bookings_df and all_bookings_df['end_time'].dtype == 'datetime64[ns, UTC]':\n",
    "    all_bookings_df['end_time'] = all_bookings_df['end_time'].dt.tz_convert(None)\n",
    "\n",
    "all_bookings_df.head()\n",
    "\n"
   ]
  },
  {
   "cell_type": "markdown",
   "metadata": {},
   "source": [
    "## Analisi prenotazioni"
   ]
  },
  {
   "cell_type": "code",
   "execution_count": null,
   "metadata": {},
   "outputs": [],
   "source": [
    "if 'start_time' in all_bookings_df.columns:\n",
    "    all_bookings_df['date'] = all_bookings_df['start_time'].dt.date\n",
    "    daily_bookings = all_bookings_df.groupby('date')['booking_id'].count().reset_index(name='count')\n",
    "\n",
    "    plt.figure(figsize=(14,7))\n",
    "    ax = sns.barplot(x='date', y='count', data=daily_bookings, color='blue')\n",
    "    plt.xticks(rotation=45)\n",
    "    plt.title(\"Numero di Prenotazioni per Giorno (Tutti i Dispositivi)\", fontsize=16)\n",
    "    plt.xlabel(\"Data\", fontsize=14)\n",
    "    plt.ylabel(\"Numero di Prenotazioni\", fontsize=14)\n",
    "    plt.grid(True, which='both', linestyle='--', linewidth=0.5)\n",
    "    plt.tight_layout()\n",
    "\n",
    "    # Annotazioni su ogni barra per mostrare il numero di prenotazioni\n",
    "    for p in ax.patches:\n",
    "        x = p.get_x() + p.get_width() / 2\n",
    "        y = p.get_height()\n",
    "        ax.text(x, y+0.1, str(int(y)), ha='center', va='bottom', fontsize=8, color='black')\n",
    "\n",
    "    plt.show()\n",
    "\n",
    "# Durata media prenotazioni globali\n",
    "if 'start_time' in all_bookings_df.columns and 'end_time' in all_bookings_df.columns:\n",
    "    if 'duration_hours' not in all_bookings_df.columns:\n",
    "        all_bookings_df['duration_hours'] = (all_bookings_df['end_time'] - all_bookings_df['start_time'])/pd.Timedelta(hours=1)\n",
    "        mean_duration = all_bookings_df['duration_hours'].mean()\n",
    "        print(f\"Durata media globale delle prenotazioni: {mean_duration:.2f} ore\")\n",
    "\n"
   ]
  },
  {
   "cell_type": "markdown",
   "metadata": {},
   "source": [
    "# Estrazione Access Log"
   ]
  },
  {
   "cell_type": "code",
   "execution_count": null,
   "metadata": {},
   "outputs": [],
   "source": [
    "devices_docs = devices_ref.stream()  # re-stream i dispositivi\n",
    "all_logs = []\n",
    "for device in devices_docs:\n",
    "    curr_device_id = device.id\n",
    "    access_logs_ref = db.collection('devices').document(curr_device_id).collection('access_logs')\n",
    "    logs = access_logs_ref.stream()\n",
    "\n",
    "    for doc in logs:\n",
    "        d = doc.to_dict()\n",
    "        d['log_id'] = doc.id\n",
    "        d['device_id'] = curr_device_id\n",
    "        d['timestamp'] = pd.to_datetime(d['timestamp'], utc=True, errors='coerce')\n",
    "        all_logs.append(d)\n",
    "\n",
    "logs_df = pd.DataFrame(all_logs)\n",
    "if 'timestamp' in logs_df and logs_df['timestamp'].dtype == 'datetime64[ns, UTC]':\n",
    "    logs_df['timestamp'] = logs_df['timestamp'].dt.tz_convert(None)\n",
    "\n",
    "logs_df.head()\n"
   ]
  },
  {
   "cell_type": "markdown",
   "metadata": {},
   "source": [
    "## Analisi log"
   ]
  },
  {
   "cell_type": "code",
   "execution_count": null,
   "metadata": {},
   "outputs": [],
   "source": [
    "logs_df['hour'] = logs_df['timestamp'].dt.hour\n",
    "logs_df['date'] = logs_df['timestamp'].dt.date\n",
    "\n",
    "# Frequenza apertura porta globale\n",
    "porta_aperta_df = logs_df[logs_df['action'] == 'porta aperta']\n",
    "hourly = porta_aperta_df.groupby('hour').size().reset_index(name='count')\n",
    "\n",
    "plt.figure(figsize=(10,5))\n",
    "sns.lineplot(x='hour', y='count', data=hourly, marker='o')\n",
    "plt.title(\"Frequenza Apertura Porta per Ora del Giorno (Tutti i Dispositivi)\")\n",
    "plt.xticks(range(0,24))\n",
    "plt.grid(True)\n",
    "plt.show()"
   ]
  },
  {
   "cell_type": "markdown",
   "metadata": {},
   "source": [
    "## Numero di Aperture per Giorno"
   ]
  },
  {
   "cell_type": "code",
   "execution_count": null,
   "metadata": {},
   "outputs": [],
   "source": [
    "if 'timestamp' in logs_df.columns:\n",
    "    logs_df['date'] = logs_df['timestamp'].dt.date\n",
    "    aperture_df = logs_df[logs_df['action'] == 'porta aperta']\n",
    "    daily_opens = aperture_df.groupby('date').size().reset_index(name='count')\n",
    "\n",
    "    plt.figure(figsize=(16,8))\n",
    "    ax = sns.barplot(x='date', y='count', data=daily_opens, color='green')\n",
    "    plt.xticks(rotation=45)\n",
    "    plt.title(\"Numero di Aperture Porta per Giorno (Tutti i Dispositivi)\", fontsize=16)\n",
    "    plt.xlabel(\"Data\", fontsize=14)\n",
    "    plt.ylabel(\"Numero di Aperture\", fontsize=14)\n",
    "    plt.grid(True, which='both', linestyle='--', linewidth=0.5)\n",
    "    plt.tight_layout()\n",
    "\n",
    "    # Annotazioni su ogni barra\n",
    "    for p in ax.patches:\n",
    "        x = p.get_x() + p.get_width() / 2\n",
    "        y = p.get_height()\n",
    "        ax.text(x, y+0.1, str(int(y)), ha='center', va='bottom', fontsize=8, color='black')\n",
    "\n",
    "    plt.show()\n"
   ]
  },
  {
   "cell_type": "markdown",
   "metadata": {},
   "source": [
    "## Numero di Allarmi"
   ]
  },
  {
   "cell_type": "code",
   "execution_count": null,
   "metadata": {},
   "outputs": [],
   "source": [
    "# Cella: Analisi degli Allarmi (aggregato)\n",
    "if 'action' in logs_df.columns:\n",
    "    alarms_df = logs_df[logs_df['action'].str.contains(\"allarme_on|EFF\", case=False, na=False)]\n",
    "    if not alarms_df.empty:\n",
    "        alarms_df['date'] = alarms_df['timestamp'].dt.date\n",
    "        alarms_per_day = alarms_df.groupby('date').size().reset_index(name='count')\n",
    "\n",
    "        plt.figure(figsize=(16,8))\n",
    "        ax = sns.barplot(x='date', y='count', data=alarms_per_day, color='red')\n",
    "        plt.xticks(rotation=45)\n",
    "        plt.title(\"Numero di Allarmi Attivati per Giorno (Tutti i Dispositivi)\", fontsize=16)\n",
    "        plt.xlabel(\"Data\", fontsize=14)\n",
    "        plt.ylabel(\"Numero di Allarmi\", fontsize=14)\n",
    "        plt.grid(True, which='both', linestyle='--', linewidth=0.5)\n",
    "        plt.tight_layout()\n",
    "\n",
    "        for p in ax.patches:\n",
    "            x = p.get_x() + p.get_width() / 2\n",
    "            y = p.get_height()\n",
    "            ax.text(x, y+0.1, str(int(y)), ha='center', va='bottom', fontsize=8, color='black')\n",
    "\n",
    "        plt.show()\n",
    "    else:\n",
    "        print(\"Nessun allarme trovato nei log.\")\n"
   ]
  },
  {
   "cell_type": "markdown",
   "metadata": {},
   "source": [
    "## Analisi per device"
   ]
  },
  {
   "cell_type": "code",
   "execution_count": null,
   "metadata": {},
   "outputs": [],
   "source": [
    "device_opens = porta_aperta_df.groupby('device_id').size().reset_index(name='count')\n",
    "plt.figure(figsize=(10,5))\n",
    "sns.barplot(x='device_id', y='count', data=device_opens)\n",
    "plt.title(\"Numero di Aperture per Device\")\n",
    "plt.xticks(rotation=45)\n",
    "plt.show()"
   ]
  },
  {
   "cell_type": "markdown",
   "metadata": {},
   "source": [
    "# Analisi Stagionale delle Prenotazioni su Mese "
   ]
  },
  {
   "cell_type": "code",
   "execution_count": null,
   "metadata": {},
   "outputs": [],
   "source": [
    "if 'date' in all_bookings_df.columns:\n",
    "    all_bookings_df['month'] = pd.to_datetime(all_bookings_df['date']).dt.month_name()\n",
    "    monthly_counts = all_bookings_df.groupby('month')['booking_id'].count().reset_index(name='count')\n",
    "    order = ['January','February','March','April','May','June','July','August','September','October','November','December']\n",
    "\n",
    "    plt.figure(figsize=(10,5))\n",
    "    sns.barplot(x='month', y='count', data=monthly_counts, order=order, color='orange')\n",
    "    plt.title(\"Prenotazioni per Mese (Tutti i Dispositivi)\", fontsize=16)\n",
    "    plt.xlabel(\"Mese\", fontsize=14)\n",
    "    plt.ylabel(\"Numero di Prenotazioni\", fontsize=14)\n",
    "    plt.xticks(rotation=45)\n",
    "    plt.tight_layout()\n",
    "    plt.show()"
   ]
  },
  {
   "cell_type": "markdown",
   "metadata": {},
   "source": [
    "# Uso di ML"
   ]
  },
  {
   "cell_type": "markdown",
   "metadata": {},
   "source": [
    "## Clustering dei giorni (K-Means) su Aperture"
   ]
  },
  {
   "cell_type": "code",
   "execution_count": null,
   "metadata": {},
   "outputs": [],
   "source": [
    "if 'timestamp' in logs_df.columns:\n",
    "    logs_df['date'] = logs_df['timestamp'].dt.date\n",
    "\n",
    "    daily_opens = logs_df[logs_df['action'] == 'porta aperta'].groupby('date').size().reset_index(name='opens')\n",
    "\n",
    "    if len(daily_opens) < 2:\n",
    "        print(\"Non ci sono abbastanza dati di aperture per eseguire il clustering.\")\n",
    "    else:\n",
    "        from sklearn.cluster import KMeans\n",
    "        import matplotlib.pyplot as plt\n",
    "        import seaborn as sns\n",
    "\n",
    "        # Scegli n_clusters=2 se pochi dati, altrimenti 3\n",
    "        n_clusters = 2 if len(daily_opens) < 5 else 3\n",
    "\n",
    "        kmeans = KMeans(n_clusters=n_clusters, random_state=42)\n",
    "        kmeans.fit(daily_opens[['opens']])\n",
    "        daily_opens['cluster'] = kmeans.labels_\n",
    "\n",
    "        plt.figure(figsize=(14,7))\n",
    "        sns.scatterplot(x='date', y='opens', data=daily_opens, hue='cluster', palette='Set2', s=100)\n",
    "        plt.xticks(rotation=45)\n",
    "        plt.title(\"Clustering dei Giorni in base alle Aperture (Tutti i Dispositivi)\", fontsize=16)\n",
    "        plt.xlabel(\"Data\", fontsize=14)\n",
    "        plt.ylabel(\"Numero di Aperture\", fontsize=14)\n",
    "        plt.legend(title='Cluster')\n",
    "        plt.grid(True, which='both', linestyle='--', linewidth=0.5)\n",
    "        plt.tight_layout()\n",
    "        plt.show()\n",
    "\n",
    "        cluster_means = daily_opens.groupby('cluster')['opens'].mean()\n",
    "        print(\"Media delle Aperture per Cluster:\")\n",
    "        print(cluster_means)\n"
   ]
  },
  {
   "cell_type": "markdown",
   "metadata": {},
   "source": [
    "## Clustering (K-Means) su Allarmi "
   ]
  },
  {
   "cell_type": "code",
   "execution_count": null,
   "metadata": {},
   "outputs": [],
   "source": [
    "# Cella: Clustering per Allarmi (Aggregato)\n",
    "if 'action' in logs_df.columns:\n",
    "    alarms_df = logs_df[logs_df['action'].str.contains(\"allarme_on|EFF\", case=False, na=False)]\n",
    "    if alarms_df.empty:\n",
    "        print(\"Non ci sono allarmi per tutti i dispositivi.\")\n",
    "    else:\n",
    "        alarms_df['date'] = alarms_df['timestamp'].dt.date\n",
    "        daily_alarms = alarms_df.groupby('date').size().reset_index(name='alarms')\n",
    "\n",
    "        if len(daily_alarms) < 2:\n",
    "            print(\"Non ci sono abbastanza dati di allarmi per eseguire il clustering.\")\n",
    "        else:\n",
    "            from sklearn.cluster import KMeans\n",
    "            import matplotlib.pyplot as plt\n",
    "            import seaborn as sns\n",
    "\n",
    "            n_clusters = 2 if len(daily_alarms) < 5 else 3\n",
    "            kmeans = KMeans(n_clusters=n_clusters, random_state=42)\n",
    "            kmeans.fit(daily_alarms[['alarms']])\n",
    "            daily_alarms['cluster'] = kmeans.labels_\n",
    "\n",
    "            plt.figure(figsize=(14,7))\n",
    "            sns.scatterplot(x='date', y='alarms', data=daily_alarms, hue='cluster', palette='Set2', s=100)\n",
    "            plt.xticks(rotation=45)\n",
    "            plt.title(\"Clustering dei Giorni in base agli Allarmi (Tutti i Dispositivi)\", fontsize=16)\n",
    "            plt.xlabel(\"Data\", fontsize=14)\n",
    "            plt.ylabel(\"Numero di Allarmi\", fontsize=14)\n",
    "            plt.legend(title='Cluster')\n",
    "            plt.grid(True, which='both', linestyle='--', linewidth=0.5)\n",
    "            plt.tight_layout()\n",
    "            plt.show()\n",
    "\n",
    "            cluster_means = daily_alarms.groupby('cluster')['alarms'].mean()\n",
    "            print(\"Media degli Allarmi per Cluster:\")\n",
    "            print(cluster_means)\n"
   ]
  },
  {
   "cell_type": "markdown",
   "metadata": {},
   "source": [
    "## Clustering Aggregato su Aperture ed Allarmi"
   ]
  },
  {
   "cell_type": "code",
   "execution_count": null,
   "metadata": {},
   "outputs": [],
   "source": [
    "from sklearn.cluster import KMeans\n",
    "import numpy as np\n",
    "\n",
    "# Cella: Clustering per anomalie su aperture e allarmi (aggregato)\n",
    "if 'timestamp' in logs_df.columns:\n",
    "    logs_df['date'] = logs_df['timestamp'].dt.date\n",
    "\n",
    "    # Conteggio aperture per giorno\n",
    "    daily_opens = logs_df[logs_df['action'] == 'porta aperta'].groupby('date').size().reset_index(name='opens')\n",
    "    # Conteggio allarmi per giorno\n",
    "    alarms_df = logs_df[logs_df['action'].str.contains(\"allarme_on|EFF\", case=False, na=False)]\n",
    "    daily_alarms = alarms_df.groupby('date').size().reset_index(name='alarms') if not alarms_df.empty else pd.DataFrame(columns=['date','alarms'])\n",
    "\n",
    "    # Merge dei dati: aperture e allarmi per giorno\n",
    "    daily_stats = pd.merge(daily_opens, daily_alarms, on='date', how='left')\n",
    "    daily_stats['alarms'] = daily_stats['alarms'].fillna(0)\n",
    "\n",
    "    # Evita l'errore se non ci sono dati sufficienti\n",
    "    if len(daily_stats) < 2:\n",
    "        print(\"Non ci sono abbastanza dati per eseguire il clustering.\")\n",
    "    else:\n",
    "        # Esegui il clustering con K-Means\n",
    "        X = daily_stats[['opens','alarms']].copy()\n",
    "\n",
    "        # Scegli n_clusters=3 (modifica se necessario)\n",
    "        kmeans = KMeans(n_clusters=2, random_state=42)\n",
    "        kmeans.fit(X)\n",
    "        daily_stats['cluster'] = kmeans.labels_\n",
    "\n",
    "        # Visualizza i cluster\n",
    "        plt.figure(figsize=(14,7))\n",
    "        sns.scatterplot(x='opens', y='alarms', data=daily_stats, hue='cluster', palette='Set2', s=100)\n",
    "        plt.title(\"Clustering dei Giorni in base a Aperture e Allarmi (Tutti i Dispositivi)\", fontsize=16)\n",
    "        plt.xlabel(\"Numero di Aperture\", fontsize=14)\n",
    "        plt.ylabel(\"Numero di Allarmi\", fontsize=14)\n",
    "        plt.legend(title='Cluster')\n",
    "        plt.grid(True, which='both', linestyle='--', linewidth=0.5)\n",
    "        plt.tight_layout()\n",
    "        plt.show()\n",
    "\n",
    "        # Possiamo anche stampare la media di ciascun cluster per capire meglio le anomalie\n",
    "        cluster_means = daily_stats.groupby('cluster')[['opens','alarms']].mean()\n",
    "        print(\"Media di Aperture e Allarmi per Cluster:\")\n",
    "        print(cluster_means)\n"
   ]
  },
  {
   "cell_type": "markdown",
   "metadata": {},
   "source": [
    "## Clusterizzare i giorni in base al numero di prenotazioni, aperture porta, effrazioni."
   ]
  },
  {
   "cell_type": "markdown",
   "metadata": {},
   "source": [
    "## Creiamo un DataFrame aggregato giornalmente"
   ]
  },
  {
   "cell_type": "code",
   "execution_count": null,
   "metadata": {},
   "outputs": [],
   "source": [
    "logs_df['date'] = logs_df['timestamp'].dt.date\n",
    "daily_stats = logs_df.groupby('date')['action'].value_counts().unstack(fill_value=0)\n",
    "daily_stats.head()\n"
   ]
  },
  {
   "cell_type": "markdown",
   "metadata": {},
   "source": [
    "## Normalizza i dati e usa KMeans per clusterizzare i giorni"
   ]
  },
  {
   "cell_type": "code",
   "execution_count": null,
   "metadata": {},
   "outputs": [],
   "source": [
    "from sklearn.cluster import KMeans\n",
    "from sklearn.preprocessing import StandardScaler\n",
    "\n",
    "scaler = StandardScaler()\n",
    "X = scaler.fit_transform(daily_stats)\n",
    "\n",
    "kmeans = KMeans(n_clusters=3, random_state=42)\n",
    "clusters = kmeans.fit_predict(X)\n",
    "\n",
    "daily_stats['cluster'] = clusters\n",
    "daily_stats.head()\n",
    "\n",
    "# Osserva le medie per cluster\n",
    "print(daily_stats.groupby('cluster').mean())\n"
   ]
  }
 ],
 "metadata": {
  "kernelspec": {
   "display_name": "bridge_iot",
   "language": "python",
   "name": "python3"
  },
  "language_info": {
   "codemirror_mode": {
    "name": "ipython",
    "version": 3
   },
   "file_extension": ".py",
   "mimetype": "text/x-python",
   "name": "python",
   "nbconvert_exporter": "python",
   "pygments_lexer": "ipython3",
   "version": "3.9.19"
  }
 },
 "nbformat": 4,
 "nbformat_minor": 2
}
