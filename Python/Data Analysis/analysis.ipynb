{
 "cells": [
  {
   "cell_type": "code",
   "execution_count": 1,
   "metadata": {},
   "outputs": [],
   "source": [
    "#!pip install firebase_admin pandas matplotlib seaborn scikit-learn"
   ]
  },
  {
   "cell_type": "markdown",
   "metadata": {},
   "source": [
    "# Connessione a Firestore\n"
   ]
  },
  {
   "cell_type": "code",
   "execution_count": 2,
   "metadata": {},
   "outputs": [],
   "source": [
    "import firebase_admin\n",
    "from firebase_admin import credentials, firestore\n",
    "import pandas as pd\n",
    "import matplotlib.pyplot as plt\n",
    "import seaborn as sns\n",
    "import datetime\n",
    "\n",
    "device_id = \"iliadbox-77F2A2\"\n",
    "\n",
    "cred = credentials.Certificate(\"baris-iot-vito-firebase-adminsdk-baww0-19695e55a0.json\")\n",
    "firebase_admin.initialize_app(cred)\n",
    "db = firestore.client()"
   ]
  },
  {
   "cell_type": "markdown",
   "metadata": {},
   "source": [
    "# Estrazione Dati"
   ]
  },
  {
   "cell_type": "code",
   "execution_count": 3,
   "metadata": {},
   "outputs": [
    {
     "data": {
      "text/html": [
       "<div>\n",
       "<style scoped>\n",
       "    .dataframe tbody tr th:only-of-type {\n",
       "        vertical-align: middle;\n",
       "    }\n",
       "\n",
       "    .dataframe tbody tr th {\n",
       "        vertical-align: top;\n",
       "    }\n",
       "\n",
       "    .dataframe thead th {\n",
       "        text-align: right;\n",
       "    }\n",
       "</style>\n",
       "<table border=\"1\" class=\"dataframe\">\n",
       "  <thead>\n",
       "    <tr style=\"text-align: right;\">\n",
       "      <th></th>\n",
       "      <th>start_time</th>\n",
       "      <th>user_id</th>\n",
       "      <th>end_time</th>\n",
       "      <th>booking_id</th>\n",
       "    </tr>\n",
       "  </thead>\n",
       "  <tbody>\n",
       "    <tr>\n",
       "      <th>0</th>\n",
       "      <td>2024-12-18T19:55:00.000</td>\n",
       "      <td>rYRiHUTLmVWAthnuaBXrx0dlHT02</td>\n",
       "      <td>2024-12-19T19:55:00.000</td>\n",
       "      <td>B89r3o17ppQUMpx7KiO2</td>\n",
       "    </tr>\n",
       "    <tr>\n",
       "      <th>1</th>\n",
       "      <td>2024-12-16T23:15:00.000</td>\n",
       "      <td>rYRiHUTLmVWAthnuaBXrx0dlHT02</td>\n",
       "      <td>2024-12-17T23:15:00.000</td>\n",
       "      <td>uZjKuwSLXBGkDGciWubU</td>\n",
       "    </tr>\n",
       "  </tbody>\n",
       "</table>\n",
       "</div>"
      ],
      "text/plain": [
       "                start_time                       user_id  \\\n",
       "0  2024-12-18T19:55:00.000  rYRiHUTLmVWAthnuaBXrx0dlHT02   \n",
       "1  2024-12-16T23:15:00.000  rYRiHUTLmVWAthnuaBXrx0dlHT02   \n",
       "\n",
       "                  end_time            booking_id  \n",
       "0  2024-12-19T19:55:00.000  B89r3o17ppQUMpx7KiO2  \n",
       "1  2024-12-17T23:15:00.000  uZjKuwSLXBGkDGciWubU  "
      ]
     },
     "execution_count": 3,
     "metadata": {},
     "output_type": "execute_result"
    }
   ],
   "source": [
    "prenotazioni_ref = db.collection('devices').document(device_id).collection('prenotazioni')\n",
    "docs = prenotazioni_ref.stream()\n",
    "\n",
    "data_list = []\n",
    "for doc in docs:\n",
    "    d = doc.to_dict()\n",
    "    d['booking_id'] = doc.id\n",
    "    data_list.append(d)\n",
    "\n",
    "prenotazioni_df = pd.DataFrame(data_list)\n",
    "prenotazioni_df.head()\n"
   ]
  },
  {
   "cell_type": "markdown",
   "metadata": {},
   "source": [
    "## Convertiamo i campi data in tipo datetime"
   ]
  },
  {
   "cell_type": "code",
   "execution_count": 4,
   "metadata": {},
   "outputs": [
    {
     "data": {
      "text/html": [
       "<div>\n",
       "<style scoped>\n",
       "    .dataframe tbody tr th:only-of-type {\n",
       "        vertical-align: middle;\n",
       "    }\n",
       "\n",
       "    .dataframe tbody tr th {\n",
       "        vertical-align: top;\n",
       "    }\n",
       "\n",
       "    .dataframe thead th {\n",
       "        text-align: right;\n",
       "    }\n",
       "</style>\n",
       "<table border=\"1\" class=\"dataframe\">\n",
       "  <thead>\n",
       "    <tr style=\"text-align: right;\">\n",
       "      <th></th>\n",
       "      <th>start_time</th>\n",
       "      <th>user_id</th>\n",
       "      <th>end_time</th>\n",
       "      <th>booking_id</th>\n",
       "      <th>duration_hours</th>\n",
       "    </tr>\n",
       "  </thead>\n",
       "  <tbody>\n",
       "    <tr>\n",
       "      <th>0</th>\n",
       "      <td>2024-12-18 19:55:00</td>\n",
       "      <td>rYRiHUTLmVWAthnuaBXrx0dlHT02</td>\n",
       "      <td>2024-12-19 19:55:00</td>\n",
       "      <td>B89r3o17ppQUMpx7KiO2</td>\n",
       "      <td>24.0</td>\n",
       "    </tr>\n",
       "    <tr>\n",
       "      <th>1</th>\n",
       "      <td>2024-12-16 23:15:00</td>\n",
       "      <td>rYRiHUTLmVWAthnuaBXrx0dlHT02</td>\n",
       "      <td>2024-12-17 23:15:00</td>\n",
       "      <td>uZjKuwSLXBGkDGciWubU</td>\n",
       "      <td>24.0</td>\n",
       "    </tr>\n",
       "  </tbody>\n",
       "</table>\n",
       "</div>"
      ],
      "text/plain": [
       "           start_time                       user_id            end_time  \\\n",
       "0 2024-12-18 19:55:00  rYRiHUTLmVWAthnuaBXrx0dlHT02 2024-12-19 19:55:00   \n",
       "1 2024-12-16 23:15:00  rYRiHUTLmVWAthnuaBXrx0dlHT02 2024-12-17 23:15:00   \n",
       "\n",
       "             booking_id  duration_hours  \n",
       "0  B89r3o17ppQUMpx7KiO2            24.0  \n",
       "1  uZjKuwSLXBGkDGciWubU            24.0  "
      ]
     },
     "execution_count": 4,
     "metadata": {},
     "output_type": "execute_result"
    }
   ],
   "source": [
    "prenotazioni_df['start_time'] = pd.to_datetime(prenotazioni_df['start_time'])\n",
    "prenotazioni_df['end_time'] = pd.to_datetime(prenotazioni_df['end_time'])\n",
    "\n",
    "# Durata della prenotazione in ore\n",
    "prenotazioni_df['duration_hours'] = (prenotazioni_df['end_time'] - prenotazioni_df['start_time']) / pd.Timedelta(hours=1)\n",
    "\n",
    "prenotazioni_df.head()\n"
   ]
  },
  {
   "cell_type": "markdown",
   "metadata": {},
   "source": [
    "# Lettura Access Log (Singolo Dispositivo)"
   ]
  },
  {
   "cell_type": "code",
   "execution_count": 5,
   "metadata": {},
   "outputs": [
    {
     "data": {
      "text/html": [
       "<div>\n",
       "<style scoped>\n",
       "    .dataframe tbody tr th:only-of-type {\n",
       "        vertical-align: middle;\n",
       "    }\n",
       "\n",
       "    .dataframe tbody tr th {\n",
       "        vertical-align: top;\n",
       "    }\n",
       "\n",
       "    .dataframe thead th {\n",
       "        text-align: right;\n",
       "    }\n",
       "</style>\n",
       "<table border=\"1\" class=\"dataframe\">\n",
       "  <thead>\n",
       "    <tr style=\"text-align: right;\">\n",
       "      <th></th>\n",
       "      <th>user_id</th>\n",
       "      <th>timestamp</th>\n",
       "      <th>action</th>\n",
       "      <th>log_id</th>\n",
       "    </tr>\n",
       "  </thead>\n",
       "  <tbody>\n",
       "    <tr>\n",
       "      <th>0</th>\n",
       "      <td>None</td>\n",
       "      <td>2024-12-13 18:04:43.493207</td>\n",
       "      <td>chiusa</td>\n",
       "      <td>0eu4DsNaH5Hq042qVZvj</td>\n",
       "    </tr>\n",
       "    <tr>\n",
       "      <th>1</th>\n",
       "      <td>None</td>\n",
       "      <td>2024-12-16 14:13:28.525768</td>\n",
       "      <td>aperta</td>\n",
       "      <td>0pLgP1unilx3dqIumwTu</td>\n",
       "    </tr>\n",
       "    <tr>\n",
       "      <th>2</th>\n",
       "      <td>None</td>\n",
       "      <td>2024-12-17 16:26:39.408281</td>\n",
       "      <td>allarme_on</td>\n",
       "      <td>1CjnkIVuLptVdmlsFsgi</td>\n",
       "    </tr>\n",
       "    <tr>\n",
       "      <th>3</th>\n",
       "      <td>rYRiHUTLmVWAthnuaBXrx0dlHT02</td>\n",
       "      <td>2024-12-11 16:55:16.321752+00:00</td>\n",
       "      <td>unlock</td>\n",
       "      <td>1D1ZOCIhtY23Ohi6OkrS</td>\n",
       "    </tr>\n",
       "    <tr>\n",
       "      <th>4</th>\n",
       "      <td>None</td>\n",
       "      <td>2024-12-17 19:56:38.277441</td>\n",
       "      <td>allarme_off</td>\n",
       "      <td>1gikiQT9B4YqEanio690</td>\n",
       "    </tr>\n",
       "  </tbody>\n",
       "</table>\n",
       "</div>"
      ],
      "text/plain": [
       "                        user_id                         timestamp  \\\n",
       "0                          None        2024-12-13 18:04:43.493207   \n",
       "1                          None        2024-12-16 14:13:28.525768   \n",
       "2                          None        2024-12-17 16:26:39.408281   \n",
       "3  rYRiHUTLmVWAthnuaBXrx0dlHT02  2024-12-11 16:55:16.321752+00:00   \n",
       "4                          None        2024-12-17 19:56:38.277441   \n",
       "\n",
       "        action                log_id  \n",
       "0       chiusa  0eu4DsNaH5Hq042qVZvj  \n",
       "1       aperta  0pLgP1unilx3dqIumwTu  \n",
       "2   allarme_on  1CjnkIVuLptVdmlsFsgi  \n",
       "3       unlock  1D1ZOCIhtY23Ohi6OkrS  \n",
       "4  allarme_off  1gikiQT9B4YqEanio690  "
      ]
     },
     "execution_count": 5,
     "metadata": {},
     "output_type": "execute_result"
    }
   ],
   "source": [
    "access_logs_ref = db.collection('devices').document(device_id).collection('access_logs')\n",
    "docs = access_logs_ref.stream()\n",
    "\n",
    "logs_data = []\n",
    "for doc in docs:\n",
    "    d = doc.to_dict()\n",
    "    d['log_id'] = doc.id\n",
    "    # timestamp è una stringa, convertiamo a datetime\n",
    "    d['timestamp'] = pd.to_datetime(d['timestamp'])\n",
    "    logs_data.append(d)\n",
    "\n",
    "logs_df = pd.DataFrame(logs_data)\n",
    "logs_df.head()\n"
   ]
  },
  {
   "cell_type": "markdown",
   "metadata": {},
   "source": [
    "# Lettura Access Log (Dispositivi Aggregati)"
   ]
  },
  {
   "cell_type": "code",
   "execution_count": 12,
   "metadata": {},
   "outputs": [
    {
     "data": {
      "text/html": [
       "<div>\n",
       "<style scoped>\n",
       "    .dataframe tbody tr th:only-of-type {\n",
       "        vertical-align: middle;\n",
       "    }\n",
       "\n",
       "    .dataframe tbody tr th {\n",
       "        vertical-align: top;\n",
       "    }\n",
       "\n",
       "    .dataframe thead th {\n",
       "        text-align: right;\n",
       "    }\n",
       "</style>\n",
       "<table border=\"1\" class=\"dataframe\">\n",
       "  <thead>\n",
       "    <tr style=\"text-align: right;\">\n",
       "      <th></th>\n",
       "      <th>user_id</th>\n",
       "      <th>timestamp</th>\n",
       "      <th>action</th>\n",
       "      <th>log_id</th>\n",
       "      <th>device_id</th>\n",
       "    </tr>\n",
       "  </thead>\n",
       "  <tbody>\n",
       "    <tr>\n",
       "      <th>0</th>\n",
       "      <td>None</td>\n",
       "      <td>2024-12-13 18:04:43.493207</td>\n",
       "      <td>chiusa</td>\n",
       "      <td>0eu4DsNaH5Hq042qVZvj</td>\n",
       "      <td>iliadbox-77F2A2</td>\n",
       "    </tr>\n",
       "    <tr>\n",
       "      <th>1</th>\n",
       "      <td>None</td>\n",
       "      <td>2024-12-16 14:13:28.525768</td>\n",
       "      <td>aperta</td>\n",
       "      <td>0pLgP1unilx3dqIumwTu</td>\n",
       "      <td>iliadbox-77F2A2</td>\n",
       "    </tr>\n",
       "    <tr>\n",
       "      <th>2</th>\n",
       "      <td>None</td>\n",
       "      <td>2024-12-17 16:26:39.408281</td>\n",
       "      <td>allarme_on</td>\n",
       "      <td>1CjnkIVuLptVdmlsFsgi</td>\n",
       "      <td>iliadbox-77F2A2</td>\n",
       "    </tr>\n",
       "    <tr>\n",
       "      <th>3</th>\n",
       "      <td>rYRiHUTLmVWAthnuaBXrx0dlHT02</td>\n",
       "      <td>2024-12-11 16:55:16.321752+00:00</td>\n",
       "      <td>unlock</td>\n",
       "      <td>1D1ZOCIhtY23Ohi6OkrS</td>\n",
       "      <td>iliadbox-77F2A2</td>\n",
       "    </tr>\n",
       "    <tr>\n",
       "      <th>4</th>\n",
       "      <td>None</td>\n",
       "      <td>2024-12-17 19:56:38.277441</td>\n",
       "      <td>allarme_off</td>\n",
       "      <td>1gikiQT9B4YqEanio690</td>\n",
       "      <td>iliadbox-77F2A2</td>\n",
       "    </tr>\n",
       "  </tbody>\n",
       "</table>\n",
       "</div>"
      ],
      "text/plain": [
       "                        user_id                         timestamp  \\\n",
       "0                          None        2024-12-13 18:04:43.493207   \n",
       "1                          None        2024-12-16 14:13:28.525768   \n",
       "2                          None        2024-12-17 16:26:39.408281   \n",
       "3  rYRiHUTLmVWAthnuaBXrx0dlHT02  2024-12-11 16:55:16.321752+00:00   \n",
       "4                          None        2024-12-17 19:56:38.277441   \n",
       "\n",
       "        action                log_id        device_id  \n",
       "0       chiusa  0eu4DsNaH5Hq042qVZvj  iliadbox-77F2A2  \n",
       "1       aperta  0pLgP1unilx3dqIumwTu  iliadbox-77F2A2  \n",
       "2   allarme_on  1CjnkIVuLptVdmlsFsgi  iliadbox-77F2A2  \n",
       "3       unlock  1D1ZOCIhtY23Ohi6OkrS  iliadbox-77F2A2  \n",
       "4  allarme_off  1gikiQT9B4YqEanio690  iliadbox-77F2A2  "
      ]
     },
     "execution_count": 12,
     "metadata": {},
     "output_type": "execute_result"
    }
   ],
   "source": [
    "devices_ref = db.collection('devices')\n",
    "devices_docs = devices_ref.stream()\n",
    "\n",
    "all_logs = []\n",
    "for device in devices_docs:\n",
    "    device_id = device.id\n",
    "    access_logs_ref = db.collection('devices').document(device_id).collection('access_logs')\n",
    "    logs = access_logs_ref.stream()\n",
    "\n",
    "    for doc in logs:\n",
    "        d = doc.to_dict()\n",
    "        d['log_id'] = doc.id\n",
    "        d['device_id'] = device_id  # aggiungi info sul device\n",
    "        # timestamp è una stringa, convertiamo a datetime\n",
    "        d['timestamp'] = pd.to_datetime(d['timestamp'])\n",
    "        all_logs.append(d)\n",
    "\n",
    "logs_df = pd.DataFrame(all_logs)\n",
    "logs_df.head()"
   ]
  },
  {
   "cell_type": "code",
   "execution_count": null,
   "metadata": {},
   "outputs": [],
   "source": []
  },
  {
   "cell_type": "markdown",
   "metadata": {},
   "source": [
    "# Analisi Esplorativa"
   ]
  },
  {
   "cell_type": "markdown",
   "metadata": {},
   "source": [
    "## Prenotazioni per giorno"
   ]
  },
  {
   "cell_type": "code",
   "execution_count": 6,
   "metadata": {},
   "outputs": [
    {
     "data": {
      "image/png": "[encoded data removed]",
      "text/plain": [
       "<Figure size 1000x500 with 1 Axes>"
      ]
     },
     "metadata": {},
     "output_type": "display_data"
    }
   ],
   "source": [
    "prenotazioni_df['date'] = prenotazioni_df['start_time'].dt.date\n",
    "daily_bookings = prenotazioni_df.groupby('date')['booking_id'].count().reset_index()\n",
    "daily_bookings.columns = ['date', 'count']\n",
    "daily_bookings.head()\n",
    "\n",
    "plt.figure(figsize=(10,5))\n",
    "sns.barplot(x='date', y='count', data=daily_bookings)\n",
    "plt.xticks(rotation=45)\n",
    "plt.title(\"Numero di Prenotazioni per Giorno\")\n",
    "plt.show()\n"
   ]
  },
  {
   "cell_type": "markdown",
   "metadata": {},
   "source": [
    "## Durata media prenotazioni"
   ]
  },
  {
   "cell_type": "code",
   "execution_count": 7,
   "metadata": {},
   "outputs": [
    {
     "name": "stdout",
     "output_type": "stream",
     "text": [
      "Durata media delle prenotazioni: 24.00 ore\n"
     ]
    }
   ],
   "source": [
    "mean_duration = prenotazioni_df['duration_hours'].mean()\n",
    "print(f\"Durata media delle prenotazioni: {mean_duration:.2f} ore\")\n"
   ]
  },
  {
   "cell_type": "markdown",
   "metadata": {},
   "source": [
    "## Analisi dei log per vedere il numero di volte che la porta è stata aperta"
   ]
  },
  {
   "cell_type": "code",
   "execution_count": 8,
   "metadata": {},
   "outputs": [
    {
     "name": "stdout",
     "output_type": "stream",
     "text": [
      "Numero di volte che la porta è stata aperta: 11\n"
     ]
    }
   ],
   "source": [
    "porta_aperta_count = (logs_df['action'] == 'porta aperta').sum()\n",
    "print(\"Numero di volte che la porta è stata aperta:\", porta_aperta_count)"
   ]
  },
  {
   "cell_type": "markdown",
   "metadata": {},
   "source": [
    "## Grafico degli orari più frequenti di apertura porta:"
   ]
  },
  {
   "cell_type": "code",
   "execution_count": 11,
   "metadata": {},
   "outputs": [
    {
     "data": {
      "text/plain": [
       "pandas.core.series.Series"
      ]
     },
     "execution_count": 11,
     "metadata": {},
     "output_type": "execute_result"
    }
   ],
   "source": [
    "type(logs_df['timestamp'])\n"
   ]
  },
  {
   "cell_type": "code",
   "execution_count": 16,
   "metadata": {},
   "outputs": [
    {
     "data": {
      "image/png": "[encoded data removed]",
      "text/plain": [
       "<Figure size 1000x500 with 1 Axes>"
      ]
     },
     "metadata": {},
     "output_type": "display_data"
    }
   ],
   "source": [
    "logs_df['hour'] = logs_df['timestamp'].dt.hour\n",
    "porta_aperta_df = logs_df[logs_df['action'] == 'porta aperta']\n",
    "hourly = porta_aperta_df.groupby('hour').size().reset_index(name='count')\n",
    "\n",
    "plt.figure(figsize=(10,5))\n",
    "sns.lineplot(x='hour', y='count', data=hourly, marker='o')\n",
    "plt.title(\"Frequenza Apertura Porta per Ora del Giorno\")\n",
    "plt.xticks(range(0,24))\n",
    "plt.show()\n"
   ]
  },
  {
   "cell_type": "markdown",
   "metadata": {},
   "source": [
    "# Uso di ML\n",
    "### clusterizzare i giorni in base al numero di prenotazioni, aperture porta, effrazioni."
   ]
  },
  {
   "cell_type": "markdown",
   "metadata": {},
   "source": [
    "## Creiamo un DataFrame aggregato giornalmente"
   ]
  },
  {
   "cell_type": "code",
   "execution_count": 9,
   "metadata": {},
   "outputs": [
    {
     "ename": "AttributeError",
     "evalue": "Can only use .dt accessor with datetimelike values",
     "output_type": "error",
     "traceback": [
      "\u001b[1;31m---------------------------------------------------------------------------\u001b[0m",
      "\u001b[1;31mAttributeError\u001b[0m                            Traceback (most recent call last)",
      "Cell \u001b[1;32mIn[9], line 1\u001b[0m\n\u001b[1;32m----> 1\u001b[0m logs_df[\u001b[38;5;124m'\u001b[39m\u001b[38;5;124mdate\u001b[39m\u001b[38;5;124m'\u001b[39m] \u001b[38;5;241m=\u001b[39m \u001b[43mlogs_df\u001b[49m\u001b[43m[\u001b[49m\u001b[38;5;124;43m'\u001b[39;49m\u001b[38;5;124;43mtimestamp\u001b[39;49m\u001b[38;5;124;43m'\u001b[39;49m\u001b[43m]\u001b[49m\u001b[38;5;241;43m.\u001b[39;49m\u001b[43mdt\u001b[49m\u001b[38;5;241m.\u001b[39mdate\n\u001b[0;32m      2\u001b[0m daily_stats \u001b[38;5;241m=\u001b[39m logs_df\u001b[38;5;241m.\u001b[39mgroupby(\u001b[38;5;124m'\u001b[39m\u001b[38;5;124mdate\u001b[39m\u001b[38;5;124m'\u001b[39m)[\u001b[38;5;124m'\u001b[39m\u001b[38;5;124maction\u001b[39m\u001b[38;5;124m'\u001b[39m]\u001b[38;5;241m.\u001b[39mvalue_counts()\u001b[38;5;241m.\u001b[39munstack(fill_value\u001b[38;5;241m=\u001b[39m\u001b[38;5;241m0\u001b[39m)\n\u001b[0;32m      3\u001b[0m daily_stats\u001b[38;5;241m.\u001b[39mhead()\n",
      "File \u001b[1;32md:\\miniconda3\\envs\\bridge_iot\\lib\\site-packages\\pandas\\core\\generic.py:6299\u001b[0m, in \u001b[0;36mNDFrame.__getattr__\u001b[1;34m(self, name)\u001b[0m\n\u001b[0;32m   6292\u001b[0m \u001b[38;5;28;01mif\u001b[39;00m (\n\u001b[0;32m   6293\u001b[0m     name \u001b[38;5;129;01mnot\u001b[39;00m \u001b[38;5;129;01min\u001b[39;00m \u001b[38;5;28mself\u001b[39m\u001b[38;5;241m.\u001b[39m_internal_names_set\n\u001b[0;32m   6294\u001b[0m     \u001b[38;5;129;01mand\u001b[39;00m name \u001b[38;5;129;01mnot\u001b[39;00m \u001b[38;5;129;01min\u001b[39;00m \u001b[38;5;28mself\u001b[39m\u001b[38;5;241m.\u001b[39m_metadata\n\u001b[0;32m   6295\u001b[0m     \u001b[38;5;129;01mand\u001b[39;00m name \u001b[38;5;129;01mnot\u001b[39;00m \u001b[38;5;129;01min\u001b[39;00m \u001b[38;5;28mself\u001b[39m\u001b[38;5;241m.\u001b[39m_accessors\n\u001b[0;32m   6296\u001b[0m     \u001b[38;5;129;01mand\u001b[39;00m \u001b[38;5;28mself\u001b[39m\u001b[38;5;241m.\u001b[39m_info_axis\u001b[38;5;241m.\u001b[39m_can_hold_identifiers_and_holds_name(name)\n\u001b[0;32m   6297\u001b[0m ):\n\u001b[0;32m   6298\u001b[0m     \u001b[38;5;28;01mreturn\u001b[39;00m \u001b[38;5;28mself\u001b[39m[name]\n\u001b[1;32m-> 6299\u001b[0m \u001b[38;5;28;01mreturn\u001b[39;00m \u001b[38;5;28;43mobject\u001b[39;49m\u001b[38;5;241;43m.\u001b[39;49m\u001b[38;5;21;43m__getattribute__\u001b[39;49m\u001b[43m(\u001b[49m\u001b[38;5;28;43mself\u001b[39;49m\u001b[43m,\u001b[49m\u001b[43m \u001b[49m\u001b[43mname\u001b[49m\u001b[43m)\u001b[49m\n",
      "File \u001b[1;32md:\\miniconda3\\envs\\bridge_iot\\lib\\site-packages\\pandas\\core\\accessor.py:224\u001b[0m, in \u001b[0;36mCachedAccessor.__get__\u001b[1;34m(self, obj, cls)\u001b[0m\n\u001b[0;32m    221\u001b[0m \u001b[38;5;28;01mif\u001b[39;00m obj \u001b[38;5;129;01mis\u001b[39;00m \u001b[38;5;28;01mNone\u001b[39;00m:\n\u001b[0;32m    222\u001b[0m     \u001b[38;5;66;03m# we're accessing the attribute of the class, i.e., Dataset.geo\u001b[39;00m\n\u001b[0;32m    223\u001b[0m     \u001b[38;5;28;01mreturn\u001b[39;00m \u001b[38;5;28mself\u001b[39m\u001b[38;5;241m.\u001b[39m_accessor\n\u001b[1;32m--> 224\u001b[0m accessor_obj \u001b[38;5;241m=\u001b[39m \u001b[38;5;28;43mself\u001b[39;49m\u001b[38;5;241;43m.\u001b[39;49m\u001b[43m_accessor\u001b[49m\u001b[43m(\u001b[49m\u001b[43mobj\u001b[49m\u001b[43m)\u001b[49m\n\u001b[0;32m    225\u001b[0m \u001b[38;5;66;03m# Replace the property with the accessor object. Inspired by:\u001b[39;00m\n\u001b[0;32m    226\u001b[0m \u001b[38;5;66;03m# https://www.pydanny.com/cached-property.html\u001b[39;00m\n\u001b[0;32m    227\u001b[0m \u001b[38;5;66;03m# We need to use object.__setattr__ because we overwrite __setattr__ on\u001b[39;00m\n\u001b[0;32m    228\u001b[0m \u001b[38;5;66;03m# NDFrame\u001b[39;00m\n\u001b[0;32m    229\u001b[0m \u001b[38;5;28mobject\u001b[39m\u001b[38;5;241m.\u001b[39m\u001b[38;5;21m__setattr__\u001b[39m(obj, \u001b[38;5;28mself\u001b[39m\u001b[38;5;241m.\u001b[39m_name, accessor_obj)\n",
      "File \u001b[1;32md:\\miniconda3\\envs\\bridge_iot\\lib\\site-packages\\pandas\\core\\indexes\\accessors.py:643\u001b[0m, in \u001b[0;36mCombinedDatetimelikeProperties.__new__\u001b[1;34m(cls, data)\u001b[0m\n\u001b[0;32m    640\u001b[0m \u001b[38;5;28;01melif\u001b[39;00m \u001b[38;5;28misinstance\u001b[39m(data\u001b[38;5;241m.\u001b[39mdtype, PeriodDtype):\n\u001b[0;32m    641\u001b[0m     \u001b[38;5;28;01mreturn\u001b[39;00m PeriodProperties(data, orig)\n\u001b[1;32m--> 643\u001b[0m \u001b[38;5;28;01mraise\u001b[39;00m \u001b[38;5;167;01mAttributeError\u001b[39;00m(\u001b[38;5;124m\"\u001b[39m\u001b[38;5;124mCan only use .dt accessor with datetimelike values\u001b[39m\u001b[38;5;124m\"\u001b[39m)\n",
      "\u001b[1;31mAttributeError\u001b[0m: Can only use .dt accessor with datetimelike values"
     ]
    }
   ],
   "source": [
    "logs_df['date'] = logs_df['timestamp'].dt.date\n",
    "daily_stats = logs_df.groupby('date')['action'].value_counts().unstack(fill_value=0)\n",
    "daily_stats.head()\n"
   ]
  },
  {
   "cell_type": "markdown",
   "metadata": {},
   "source": [
    "## Normalizza i dati e usa KMeans per clusterizzare i giorni"
   ]
  },
  {
   "cell_type": "code",
   "execution_count": null,
   "metadata": {},
   "outputs": [],
   "source": [
    "from sklearn.cluster import KMeans\n",
    "from sklearn.preprocessing import StandardScaler\n",
    "\n",
    "scaler = StandardScaler()\n",
    "X = scaler.fit_transform(daily_stats)\n",
    "\n",
    "kmeans = KMeans(n_clusters=3, random_state=42)\n",
    "clusters = kmeans.fit_predict(X)\n",
    "\n",
    "daily_stats['cluster'] = clusters\n",
    "daily_stats.head()\n",
    "\n",
    "# Osserva le medie per cluster\n",
    "print(daily_stats.groupby('cluster').mean())\n"
   ]
  }
 ],
 "metadata": {
  "kernelspec": {
   "display_name": "bridge_iot",
   "language": "python",
   "name": "python3"
  },
  "language_info": {
   "codemirror_mode": {
    "name": "ipython",
    "version": 3
   },
   "file_extension": ".py",
   "mimetype": "text/x-python",
   "name": "python",
   "nbconvert_exporter": "python",
   "pygments_lexer": "ipython3",
   "version": "3.9.19"
  }
 },
 "nbformat": 4,
 "nbformat_minor": 2
}
